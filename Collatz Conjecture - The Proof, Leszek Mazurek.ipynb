{
 "cells": [
  {
   "attachments": {},
   "cell_type": "markdown",
   "metadata": {},
   "source": [
    "A007814 : https://oeis.org/A007814"
   ]
  },
  {
   "cell_type": "code",
   "execution_count": 1,
   "metadata": {},
   "outputs": [],
   "source": [
    "import math\n",
    "\n",
    "def A007814(n):\n",
    "    return (~n & n-1).bit_length()"
   ]
  },
  {
   "attachments": {},
   "cell_type": "markdown",
   "metadata": {},
   "source": [
    "Algorithme de Leszek Mazurek"
   ]
  },
  {
   "attachments": {},
   "cell_type": "markdown",
   "metadata": {},
   "source": [
    "https://www.researchgate.net/publication/351347153_COLLATZ_CONJECTURE_-THE_PROOF"
   ]
  },
  {
   "cell_type": "code",
   "execution_count": 2,
   "metadata": {},
   "outputs": [],
   "source": [
    "N0=9\n",
    "A=1\n",
    "while N0>=A:\n",
    "    A*=2\n",
    "B=A-N0\n",
    "C=0\n",
    "i=0\n",
    "M=[A007814(B)]\n",
    "while A-B!=2**A007814(B):\n",
    "    A,B,C=4*A,3*B+A-2**A007814(B),3*C+2**A007814(B)\n",
    "    M.append(A007814(B))\n",
    "    i+=1\n",
    "n=i"
   ]
  },
  {
   "attachments": {},
   "cell_type": "markdown",
   "metadata": {},
   "source": [
    "Forme de (1.2)"
   ]
  },
  {
   "cell_type": "code",
   "execution_count": 16,
   "metadata": {},
   "outputs": [
    {
     "data": {
      "text/latex": [
       "$\\displaystyle 9 \\cdot 3^{6} = 2^{m_{0}} - 2^{m_{1}} \\cdot 3^{5} - 2^{m_{2}} \\cdot 3^{4} - 2^{m_{3}} \\cdot 3^{3} - 2^{m_{4}} \\cdot 3^{2} - 2^{m_{5}} \\cdot 3^{1} - 2^{m_{6}} \\cdot 3^{0}$"
      ],
      "text/plain": [
       "Eq(Dot(9, 3**6), 2**m_0 - Dot(2**m_1, 3**5) - Dot(2**m_2, 3**4) - Dot(2**m_3, 3**3) - Dot(2**m_4, 3**2) - Dot(2**m_5, 3**1) - Dot(2**m_6, 3**0))"
      ]
     },
     "metadata": {},
     "output_type": "display_data"
    },
    {
     "data": {
      "text/latex": [
       "$\\displaystyle 9 \\cdot 3^{6} = 1 \\cdot 2^{13} - 2^{0} \\cdot 3^{5} - 2^{2} \\cdot 3^{4} - 2^{3} \\cdot 3^{3} - 2^{4} \\cdot 3^{2} - 2^{6} \\cdot 3^{1} - 2^{9} \\cdot 3^{0}$"
      ],
      "text/plain": [
       "Eq(Dot(9, 3**6), Dot(1, 2**13) - Dot(2**0, 3**5) - Dot(2**2, 3**4) - Dot(2**3, 3**3) - Dot(2**4, 3**2) - Dot(2**6, 3**1) - Dot(2**9, 3**0))"
      ]
     },
     "metadata": {},
     "output_type": "display_data"
    }
   ],
   "source": [
    "from sympy import Symbol,Pow,Eq\n",
    "from sympy.vector import dot\n",
    "SM=[Symbol(\"m_\"+str(i)) for i in range(len(M))]\n",
    "display(Eq(dot(Pow(3,n,evaluate=False),N0),Pow(2,SM[0],evaluate=False)-sum([dot(Pow(2,SM[i],evaluate=False),Pow(3,(len(M)-i-1),evaluate=False)) for i in range(1,len(M))])))\n",
    "display(Eq(dot(Pow(3,n,evaluate=False),N0),dot(Pow(2,M[-1],evaluate=False),1)-sum([dot(Pow(2,M[i-1],evaluate=False),Pow(3,(len(M)-i-1),evaluate=False)) for i in range(1,len(M))])))"
   ]
  }
 ],
 "metadata": {
  "kernelspec": {
   "display_name": "Python 3",
   "language": "python",
   "name": "python3"
  },
  "language_info": {
   "codemirror_mode": {
    "name": "ipython",
    "version": 3
   },
   "file_extension": ".py",
   "mimetype": "text/x-python",
   "name": "python",
   "nbconvert_exporter": "python",
   "pygments_lexer": "ipython3",
   "version": "3.9.13 (tags/v3.9.13:6de2ca5, May 17 2022, 16:36:42) [MSC v.1929 64 bit (AMD64)]"
  },
  "orig_nbformat": 4,
  "vscode": {
   "interpreter": {
    "hash": "11938c6bc6919ae2720b4d5011047913343b08a43b18698fd82dedb0d4417594"
   }
  }
 },
 "nbformat": 4,
 "nbformat_minor": 2
}
