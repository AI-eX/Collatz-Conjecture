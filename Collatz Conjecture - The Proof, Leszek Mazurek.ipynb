{
 "cells": [
  {
   "attachments": {},
   "cell_type": "markdown",
   "metadata": {},
   "source": [
    "A007814 : https://oeis.org/A007814"
   ]
  },
  {
   "cell_type": "code",
   "execution_count": 171,
   "metadata": {},
   "outputs": [],
   "source": [
    "import math\n",
    "\n",
    "def A007814(n):\n",
    "    return (~n & n-1).bit_length()"
   ]
  },
  {
   "attachments": {},
   "cell_type": "markdown",
   "metadata": {},
   "source": [
    "Algorithme de Leszek Mazurek"
   ]
  },
  {
   "cell_type": "code",
   "execution_count": 172,
   "metadata": {},
   "outputs": [],
   "source": [
    "N0=9\n",
    "A=1\n",
    "while N0>=A:\n",
    "    A*=2\n",
    "B=A-N0\n",
    "C=0\n",
    "i=0\n",
    "M=[A007814(B)]\n",
    "while A-B!=2**A007814(B):\n",
    "    A,B,C=4*A,3*B+A-2**A007814(B),3*C+2**A007814(B)\n",
    "    M.append(A007814(B))\n",
    "    i+=1\n",
    "n=i"
   ]
  },
  {
   "attachments": {},
   "cell_type": "markdown",
   "metadata": {},
   "source": [
    "Forme de (1.2)"
   ]
  },
  {
   "cell_type": "code",
   "execution_count": 173,
   "metadata": {},
   "outputs": [
    {
     "data": {
      "image/png": "[encoded data removed]",
      "text/latex": [
       "$\\displaystyle 9 \\cdot 3^{6} = 2^{m_{0}} \\cdot 3^{6} + 2^{m_{1}} \\cdot 3^{5} + 2^{m_{2}} \\cdot 3^{4} + 2^{m_{3}} \\cdot 3^{3} + 2^{m_{4}} \\cdot 3^{2} + 2^{m_{5}} \\cdot 3^{1} + 2^{m_{6}} \\cdot 3^{0}$"
      ],
      "text/plain": [
       "      6      m₀    6      m₁    5      m₂    4      m₃    3      m₄    2      \n",
       "(9)⋅(3 ) = (2  )⋅(3 ) + (2  )⋅(3 ) + (2  )⋅(3 ) + (2  )⋅(3 ) + (2  )⋅(3 ) + (2\n",
       "\n",
       "m₅    1      m₆    0 \n",
       "  )⋅(3 ) + (2  )⋅(3 )"
      ]
     },
     "metadata": {},
     "output_type": "display_data"
    },
    {
     "data": {
      "image/png": "[encoded data removed]",
      "text/latex": [
       "$\\displaystyle 9 \\cdot 3^{6} = 2^{0} \\cdot 3^{6} + 2^{2} \\cdot 3^{5} + 2^{3} \\cdot 3^{4} + 2^{4} \\cdot 3^{3} + 2^{6} \\cdot 3^{2} + 2^{9} \\cdot 3^{1} + 2^{13} \\cdot 3^{0}$"
      ],
      "text/plain": [
       "      6      0    6      2    5      3    4      4    3      6    2      9    \n",
       "(9)⋅(3 ) = (2 )⋅(3 ) + (2 )⋅(3 ) + (2 )⋅(3 ) + (2 )⋅(3 ) + (2 )⋅(3 ) + (2 )⋅(3\n",
       "\n",
       "1      13    0 \n",
       " ) + (2  )⋅(3 )"
      ]
     },
     "metadata": {},
     "output_type": "display_data"
    }
   ],
   "source": [
    "from sympy import Symbol,Pow,Eq\n",
    "from sympy.vector import dot\n",
    "SM=[Symbol(\"m_\"+str(i)) for i in range(len(M))]\n",
    "display(Eq(dot(Pow(3,n,evaluate=False),N0),sum([dot(Pow(2,SM[i],evaluate=False),Pow(3,(len(M)-i-1),evaluate=False)) for i in range(len(M))])))\n",
    "display(Eq(dot(Pow(3,n,evaluate=False),N0),sum([dot(Pow(2,M[i],evaluate=False),Pow(3,(len(M)-i-1),evaluate=False)) for i in range(len(M))])))"
   ]
  }
 ],
 "metadata": {
  "kernelspec": {
   "display_name": "Python 3",
   "language": "python",
   "name": "python3"
  },
  "language_info": {
   "codemirror_mode": {
    "name": "ipython",
    "version": 3
   },
   "file_extension": ".py",
   "mimetype": "text/x-python",
   "name": "python",
   "nbconvert_exporter": "python",
   "pygments_lexer": "ipython3",
   "version": "3.9.13"
  },
  "orig_nbformat": 4,
  "vscode": {
   "interpreter": {
    "hash": "11938c6bc6919ae2720b4d5011047913343b08a43b18698fd82dedb0d4417594"
   }
  }
 },
 "nbformat": 4,
 "nbformat_minor": 2
}
